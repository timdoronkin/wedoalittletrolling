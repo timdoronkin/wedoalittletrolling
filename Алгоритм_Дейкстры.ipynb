{
  "nbformat": 4,
  "nbformat_minor": 0,
  "metadata": {
    "colab": {
      "provenance": []
    },
    "kernelspec": {
      "name": "python3",
      "display_name": "Python 3"
    },
    "language_info": {
      "name": "python"
    }
  },
  "cells": [
    {
      "cell_type": "code",
      "execution_count": 15,
      "metadata": {
        "colab": {
          "base_uri": "https://localhost:8080/"
        },
        "id": "0TSRxU_2l-im",
        "outputId": "f03202fb-506a-477f-e345-9f10f61f911d"
      },
      "outputs": [
        {
          "output_type": "stream",
          "name": "stdout",
          "text": [
            "['A', 'B', 'C', 'D', 'E', 'G', 'F']\n",
            "['A', 'C', 'E', 'F']\n",
            "1\n",
            "A->D->F\n",
            "10\n"
          ]
        }
      ],
      "source": [
        "import sys\n",
        "\n",
        "\n",
        "graf = {'A': {'B': 1, 'D': 1, 'C': 3},\n",
        "        'B': {'A': 1, 'E': 5},\n",
        "        'C': {'A': 3, 'D': 1},\n",
        "        'D': {'A': 1, 'C': 1, 'E': 3, 'F': 9},\n",
        "        'E': {'B': 5, 'D': 3, 'G': 7},\n",
        "        'G': {'E': 7, 'F': 8},\n",
        "        'F': {'D': 9, 'G': 8}\n",
        "        }\n",
        "#возвращает красивым списочком все вершины графа\n",
        "def all_vertex(graf):\n",
        "    return list(graf.keys())\n",
        "print(all_vertex(graf))\n",
        "\n",
        "#возвращаем не менее красивым списочком всех соседей данной вершины\n",
        "def vertex_neighbors(graf, vertex):\n",
        "    return list(graf[vertex].keys())\n",
        "print(vertex_neighbors(graf, 'D'))\n",
        "\n",
        "#возвращаем длину ребра между двумя вершинами\n",
        "def value(graf, vertex1, vertex2):\n",
        "    return(graf[vertex1][vertex2])\n",
        "print(value(graf, 'A', 'D'))\n",
        "\n",
        "def dijkstra(graf, start):\n",
        "    unvisited_vertexes = all_vertex(graf)\n",
        "    shortest_path = {}\n",
        "    previous_vertex = {}\n",
        "\n",
        "#по умолчанию расстояния между любыми двумя вершинами задаем равным бесконечности,\n",
        "# а затем в цикле while переопределяем на минимально возможное \n",
        "    max_value = sys.maxsize\n",
        "    for vertex in unvisited_vertexes:\n",
        "        shortest_path[vertex] = max_value\n",
        "    shortest_path[start] = 0\n",
        "\n",
        "    while unvisited_vertexes:\n",
        "        #ищем вершину с меньшей оценкой\n",
        "        current_min_vertex = None\n",
        "        for vertex in unvisited_vertexes:\n",
        "            if current_min_vertex == None:\n",
        "                current_min_vertex = vertex\n",
        "            elif shortest_path[vertex] < shortest_path[current_min_vertex]:\n",
        "                current_min_vertex = vertex\n",
        "        neighbors = vertex_neighbors(graf, current_min_vertex)\n",
        "        for neighbor in neighbors:\n",
        "            tentative_value = shortest_path[current_min_vertex] + value(graf, current_min_vertex, neighbor)\n",
        "            if tentative_value < shortest_path[neighbor]:\n",
        "                shortest_path[neighbor] = tentative_value\n",
        "                previous_vertex[neighbor] = current_min_vertex\n",
        "        unvisited_vertexes.remove(current_min_vertex)\n",
        "    return previous_vertex, shortest_path\n",
        "\n",
        "def print_result(previous_vertex, shortest_path,\n",
        "                 start_vertex, target_vertex):\n",
        "    path = []\n",
        "    vertex = target_vertex\n",
        "    while vertex != start_vertex:\n",
        "        path.append(vertex)\n",
        "        vertex = previous_vertex[vertex]\n",
        "    path.append(start_vertex)\n",
        "    print(\"->\".join(reversed(path)))\n",
        "    print(shortest_path[target_vertex])\n",
        "previous_vertex, shortest_path = dijkstra(graf, 'A')\n",
        "print_result(previous_vertex, shortest_path, 'A', 'F')\n",
        "\n",
        "\n",
        "            "
      ]
    }
  ]
}